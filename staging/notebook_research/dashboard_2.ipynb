{
 "cells": [
  {
   "cell_type": "code",
   "execution_count": 1,
   "id": "76a53b4c",
   "metadata": {},
   "outputs": [
    {
     "data": {
      "text/html": [
       "\n",
       "        <iframe\n",
       "            width=\"100%\"\n",
       "            height=\"650\"\n",
       "            src=\"http://127.0.0.1:8050/\"\n",
       "            frameborder=\"0\"\n",
       "            allowfullscreen\n",
       "            \n",
       "        ></iframe>\n",
       "        "
      ],
      "text/plain": [
       "<IPython.lib.display.IFrame at 0x15c2b746f48>"
      ]
     },
     "metadata": {},
     "output_type": "display_data"
    }
   ],
   "source": [
    "import dash\n",
    "from dash import dcc, html\n",
    "from dash.dependencies import Input, Output\n",
    "import plotly.graph_objs as go\n",
    "import pandas as pd\n",
    "\n",
    "# Load the traffic simulation data\n",
    "data = pd.read_csv(\"labeled_data.csv\")\n",
    "\n",
    "# Get unique car IDs and time steps\n",
    "car_ids = data['car_id'].unique()\n",
    "time_steps = sorted(data['time'].unique())\n",
    "\n",
    "# Create a Dash application\n",
    "app = dash.Dash(__name__)\n",
    "\n",
    "# Define the layout of the dashboard\n",
    "app.layout = html.Div([\n",
    "    html.H1(\"Traffic Simulation Dashboard\"),\n",
    "    dcc.Graph(id='traffic-simulation-graph'),\n",
    "    dcc.Interval(\n",
    "        id='interval-component',\n",
    "        interval=1*1000,  # in milliseconds\n",
    "        n_intervals=0\n",
    "    )\n",
    "])\n",
    "\n",
    "# Define callback to update the traffic simulation graph\n",
    "@app.callback(\n",
    "    Output('traffic-simulation-graph', 'figure'),\n",
    "    [Input('interval-component', 'n_intervals')]\n",
    ")\n",
    "def update_traffic_simulation(n):\n",
    "    # Get the current time step\n",
    "    current_time_step = time_steps[n % len(time_steps)]\n",
    "    \n",
    "    # Filter data for the current time step\n",
    "    current_data = data[data['time'] == current_time_step]\n",
    "    \n",
    "    # Create traces for each car ID\n",
    "    traces = []\n",
    "    for car_id in car_ids:\n",
    "        car_data = current_data[current_data['car_id'] == car_id]\n",
    "        trace = go.Scatter(x=car_data['current_velocity'], y=car_data['following_distance'],\n",
    "                           mode='markers', marker=dict(size=10), name=f\"Car ID {car_id}\")\n",
    "        traces.append(trace)\n",
    "    \n",
    "    # Create layout for the graph\n",
    "    layout = go.Layout(title=f\"Traffic Simulation at Time Step {current_time_step}\",\n",
    "                       xaxis=dict(title='current_velocity'),\n",
    "                       yaxis=dict(title='Following Distance'))\n",
    "    \n",
    "    # Return the figure\n",
    "    return {'data': traces, 'layout': layout}\n",
    "\n",
    "# Run the app\n",
    "if __name__ == '__main__':\n",
    "    app.run_server(debug=True)\n"
   ]
  },
  {
   "cell_type": "code",
   "execution_count": null,
   "id": "cf0a1113",
   "metadata": {},
   "outputs": [],
   "source": []
  }
 ],
 "metadata": {
  "kernelspec": {
   "display_name": "Python 3",
   "language": "python",
   "name": "python3"
  },
  "language_info": {
   "codemirror_mode": {
    "name": "ipython",
    "version": 3
   },
   "file_extension": ".py",
   "mimetype": "text/x-python",
   "name": "python",
   "nbconvert_exporter": "python",
   "pygments_lexer": "ipython3",
   "version": "3.7.16"
  }
 },
 "nbformat": 4,
 "nbformat_minor": 5
}
