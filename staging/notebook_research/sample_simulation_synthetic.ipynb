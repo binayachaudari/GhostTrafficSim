{
 "cells": [
  {
   "cell_type": "code",
   "execution_count": 1,
   "id": "d5ad8bf7",
   "metadata": {},
   "outputs": [
    {
     "data": {
      "text/html": [
       "\n",
       "        <iframe\n",
       "            width=\"100%\"\n",
       "            height=\"650\"\n",
       "            src=\"http://127.0.0.1:8050/\"\n",
       "            frameborder=\"0\"\n",
       "            allowfullscreen\n",
       "            \n",
       "        ></iframe>\n",
       "        "
      ],
      "text/plain": [
       "<IPython.lib.display.IFrame at 0x252f2dfc748>"
      ]
     },
     "metadata": {},
     "output_type": "display_data"
    }
   ],
   "source": [
    "import dash\n",
    "from dash import dcc, html\n",
    "from dash.dependencies import Input, Output\n",
    "import plotly.graph_objs as go\n",
    "import pandas as pd\n",
    "import random\n",
    "\n",
    "# Initialize the Dash app\n",
    "app = dash.Dash(__name__)\n",
    "\n",
    "# Define the layout of the app\n",
    "app.layout = html.Div([\n",
    "    html.H1(\"Traffic Simulation Dashboard\"),\n",
    "    dcc.Graph(id=\"traffic-simulation\"),\n",
    "    dcc.Interval(\n",
    "        id='interval-component',\n",
    "        interval=1000,  # Update every 1 second\n",
    "        n_intervals=0\n",
    "    )\n",
    "])\n",
    "\n",
    "# Define the callback to update the traffic simulation\n",
    "@app.callback(\n",
    "    Output('traffic-simulation', 'figure'),\n",
    "    [Input('interval-component', 'n_intervals')]\n",
    ")\n",
    "def update_simulation(n):\n",
    "    # Generate synthetic traffic simulation data\n",
    "    num_cars = 50\n",
    "    lanes = ['Lane 1', 'Lane 2', 'Lane 3']\n",
    "    velocities = [random.randint(10, 30) for _ in range(num_cars)]\n",
    "    distances = [random.uniform(0, 10) for _ in range(num_cars)]\n",
    "\n",
    "    # Create a DataFrame for the simulation data\n",
    "    simulation_data = pd.DataFrame({\n",
    "        'Car ID': range(1, num_cars + 1),\n",
    "        'Lane': [random.choice(lanes) for _ in range(num_cars)],\n",
    "        'Velocity': velocities,\n",
    "        'Distance': distances\n",
    "    })\n",
    "\n",
    "    # Create traces for each lane\n",
    "    traces = []\n",
    "    for lane in lanes:\n",
    "        lane_data = simulation_data[simulation_data['Lane'] == lane]\n",
    "        trace = go.Scatter(\n",
    "            x=lane_data['Distance'],\n",
    "            y=[lane] * len(lane_data),\n",
    "            mode='markers',\n",
    "            marker=dict(\n",
    "                size=10,\n",
    "                color='blue',\n",
    "                line=dict(width=2, color='DarkSlateGrey')\n",
    "            ),\n",
    "            name=lane\n",
    "        )\n",
    "        traces.append(trace)\n",
    "\n",
    "    # Define layout for the plot\n",
    "    layout = dict(\n",
    "        title='Traffic Simulation',\n",
    "        xaxis=dict(title='Distance'),\n",
    "        yaxis=dict(title='Lane', showticklabels=False),\n",
    "        showlegend=False,\n",
    "        height=600\n",
    "    )\n",
    "\n",
    "    # Create the figure\n",
    "    fig = go.Figure(data=traces, layout=layout)\n",
    "    return fig\n",
    "\n",
    "# Run the app\n",
    "if __name__ == '__main__':\n",
    "    app.run_server(debug=True)\n"
   ]
  },
  {
   "cell_type": "code",
   "execution_count": null,
   "id": "9a4c20d8",
   "metadata": {},
   "outputs": [],
   "source": []
  }
 ],
 "metadata": {
  "kernelspec": {
   "display_name": "Python 3",
   "language": "python",
   "name": "python3"
  },
  "language_info": {
   "codemirror_mode": {
    "name": "ipython",
    "version": 3
   },
   "file_extension": ".py",
   "mimetype": "text/x-python",
   "name": "python",
   "nbconvert_exporter": "python",
   "pygments_lexer": "ipython3",
   "version": "3.7.16"
  }
 },
 "nbformat": 4,
 "nbformat_minor": 5
}
