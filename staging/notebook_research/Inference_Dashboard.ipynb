{
 "cells": [
  {
   "cell_type": "code",
   "execution_count": 1,
   "id": "7195a4f9",
   "metadata": {},
   "outputs": [
    {
     "data": {
      "text/html": [
       "\n",
       "        <iframe\n",
       "            width=\"100%\"\n",
       "            height=\"650\"\n",
       "            src=\"http://127.0.0.1:8050/\"\n",
       "            frameborder=\"0\"\n",
       "            allowfullscreen\n",
       "            \n",
       "        ></iframe>\n",
       "        "
      ],
      "text/plain": [
       "<IPython.lib.display.IFrame at 0x2b6d7484f88>"
      ]
     },
     "metadata": {},
     "output_type": "display_data"
    }
   ],
   "source": [
    "import dash\n",
    "from dash import dcc, html\n",
    "from dash.dependencies import Input, Output\n",
    "import plotly.express as px\n",
    "from sklearn.ensemble import RandomForestClassifier\n",
    "from sklearn.metrics import classification_report\n",
    "import pandas as pd\n",
    "\n",
    "# Load the generated data (replace \"traffic_simulation_data.csv\" with your file)\n",
    "data = pd.read_csv(\"labeled_data.csv\")\n",
    "\n",
    "# Train a Random Forest classifier on the data\n",
    "X = data.drop(columns=[\"label\"])\n",
    "y = data[\"label\"]\n",
    "clf = RandomForestClassifier(random_state=42)\n",
    "clf.fit(X, y)\n",
    "\n",
    "# Define the Dash app\n",
    "app = dash.Dash(__name__)\n",
    "\n",
    "# Define the layout of the app\n",
    "app.layout = html.Div([\n",
    "    html.H1(\"Traffic Simulation Dashboard\"),\n",
    "    html.Label(\"Select Feature:\"),\n",
    "    dcc.Dropdown(\n",
    "        id=\"feature-dropdown\",\n",
    "        options=[{\"label\": col, \"value\": col} for col in X.columns],\n",
    "        value=X.columns[0]\n",
    "    ),\n",
    "    dcc.Graph(id=\"feature-visualization\"),\n",
    "    html.Div(id=\"classification-report\")\n",
    "])\n",
    "\n",
    "# Define callback to update visualization based on feature selection\n",
    "@app.callback(\n",
    "    Output(\"feature-visualization\", \"figure\"),\n",
    "    [Input(\"feature-dropdown\", \"value\")]\n",
    ")\n",
    "def update_visualization(selected_feature):\n",
    "    fig = px.histogram(data, x=selected_feature, color=\"label\", barmode=\"overlay\")\n",
    "    return fig\n",
    "\n",
    "# Define callback to display classification report\n",
    "@app.callback(\n",
    "    Output(\"classification-report\", \"children\"),\n",
    "    [Input(\"feature-dropdown\", \"value\")]\n",
    ")\n",
    "def display_classification_report(selected_feature):\n",
    "    # Assuming the model was already trained\n",
    "    y_pred = clf.predict(X)\n",
    "    report = classification_report(y, y_pred)\n",
    "    return html.Div([\n",
    "        html.H3(\"Classification Report\"),\n",
    "        html.Pre(report)\n",
    "    ])\n",
    "\n",
    "# Run the app\n",
    "if __name__ == '__main__':\n",
    "    app.run_server(debug=True)\n"
   ]
  },
  {
   "cell_type": "code",
   "execution_count": null,
   "id": "47fa967a",
   "metadata": {},
   "outputs": [],
   "source": []
  }
 ],
 "metadata": {
  "kernelspec": {
   "display_name": "Python 3",
   "language": "python",
   "name": "python3"
  },
  "language_info": {
   "codemirror_mode": {
    "name": "ipython",
    "version": 3
   },
   "file_extension": ".py",
   "mimetype": "text/x-python",
   "name": "python",
   "nbconvert_exporter": "python",
   "pygments_lexer": "ipython3",
   "version": "3.7.16"
  }
 },
 "nbformat": 4,
 "nbformat_minor": 5
}
