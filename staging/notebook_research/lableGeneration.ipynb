{
 "cells": [
  {
   "cell_type": "code",
   "execution_count": 1,
   "id": "a230f4d2",
   "metadata": {},
   "outputs": [],
   "source": [
    "import pandas as pd"
   ]
  },
  {
   "cell_type": "code",
   "execution_count": 6,
   "id": "620d849b",
   "metadata": {},
   "outputs": [],
   "source": [
    "data = pd.read_csv('traffic_simulation_data1.csv')"
   ]
  },
  {
   "cell_type": "code",
   "execution_count": 7,
   "id": "9d327f25",
   "metadata": {},
   "outputs": [
    {
     "data": {
      "text/html": [
       "<div>\n",
       "<style scoped>\n",
       "    .dataframe tbody tr th:only-of-type {\n",
       "        vertical-align: middle;\n",
       "    }\n",
       "\n",
       "    .dataframe tbody tr th {\n",
       "        vertical-align: top;\n",
       "    }\n",
       "\n",
       "    .dataframe thead th {\n",
       "        text-align: right;\n",
       "    }\n",
       "</style>\n",
       "<table border=\"1\" class=\"dataframe\">\n",
       "  <thead>\n",
       "    <tr style=\"text-align: right;\">\n",
       "      <th></th>\n",
       "      <th>time</th>\n",
       "      <th>car_id</th>\n",
       "      <th>lane_number</th>\n",
       "      <th>current_velocity</th>\n",
       "      <th>following_distance</th>\n",
       "      <th>ahead_distance</th>\n",
       "    </tr>\n",
       "  </thead>\n",
       "  <tbody>\n",
       "    <tr>\n",
       "      <th>0</th>\n",
       "      <td>0</td>\n",
       "      <td>1</td>\n",
       "      <td>3</td>\n",
       "      <td>15.735797</td>\n",
       "      <td>4.104076</td>\n",
       "      <td>1.386412</td>\n",
       "    </tr>\n",
       "    <tr>\n",
       "      <th>1</th>\n",
       "      <td>0</td>\n",
       "      <td>2</td>\n",
       "      <td>3</td>\n",
       "      <td>20.659791</td>\n",
       "      <td>0.574841</td>\n",
       "      <td>3.276276</td>\n",
       "    </tr>\n",
       "    <tr>\n",
       "      <th>2</th>\n",
       "      <td>0</td>\n",
       "      <td>3</td>\n",
       "      <td>3</td>\n",
       "      <td>25.256198</td>\n",
       "      <td>4.478698</td>\n",
       "      <td>0.904355</td>\n",
       "    </tr>\n",
       "    <tr>\n",
       "      <th>3</th>\n",
       "      <td>0</td>\n",
       "      <td>4</td>\n",
       "      <td>1</td>\n",
       "      <td>28.466996</td>\n",
       "      <td>2.054663</td>\n",
       "      <td>4.554054</td>\n",
       "    </tr>\n",
       "    <tr>\n",
       "      <th>4</th>\n",
       "      <td>0</td>\n",
       "      <td>5</td>\n",
       "      <td>1</td>\n",
       "      <td>25.876506</td>\n",
       "      <td>0.490048</td>\n",
       "      <td>2.943232</td>\n",
       "    </tr>\n",
       "  </tbody>\n",
       "</table>\n",
       "</div>"
      ],
      "text/plain": [
       "   time  car_id  lane_number  current_velocity  following_distance  \\\n",
       "0     0       1            3         15.735797            4.104076   \n",
       "1     0       2            3         20.659791            0.574841   \n",
       "2     0       3            3         25.256198            4.478698   \n",
       "3     0       4            1         28.466996            2.054663   \n",
       "4     0       5            1         25.876506            0.490048   \n",
       "\n",
       "   ahead_distance  \n",
       "0        1.386412  \n",
       "1        3.276276  \n",
       "2        0.904355  \n",
       "3        4.554054  \n",
       "4        2.943232  "
      ]
     },
     "execution_count": 7,
     "metadata": {},
     "output_type": "execute_result"
    }
   ],
   "source": [
    "data.head()"
   ]
  },
  {
   "cell_type": "code",
   "execution_count": 18,
   "id": "1f6f69a7",
   "metadata": {},
   "outputs": [],
   "source": [
    "import pandas as pd\n",
    "\n",
    "# Load the data\n",
    "data = pd.read_csv('traffic_simulation_data1.csv')  # Adjust the filename if needed\n",
    "\n",
    "# Sort the data by 'car_id' and 'time' to ensure proper order\n",
    "data.sort_values(by=['time', 'car_id'], inplace=True)\n",
    "\n",
    "# Initialize a new column for labels\n",
    "data['label'] = 0\n",
    "\n",
    "# Iterate through each row\n",
    "for index, row in data.iterrows():\n",
    "    # Get the previous row for the same car_id\n",
    "    previous_rows = data[(data['car_id'] == row['car_id']) & (data['time'] < row['time'])]\n",
    "    \n",
    "    if not previous_rows.empty:\n",
    "        previous_row = previous_rows.iloc[-1]\n",
    "        \n",
    "        # Compare 'ahead_distance' of current and previous rows\n",
    "        if row['ahead_distance'] > previous_row['ahead_distance']:\n",
    "            data.at[index, 'label'] = 1\n",
    "        elif row['ahead_distance'] < previous_row['ahead_distance']:\n",
    "            data.at[index, 'label'] = -1\n",
    "        else:\n",
    "            data.at[index, 'label'] = 0\n",
    "\n",
    "# Save the labeled data\n",
    "data.to_csv('labeled_data.csv', index=False)\n"
   ]
  },
  {
   "cell_type": "code",
   "execution_count": 19,
   "id": "c90b6ab0",
   "metadata": {},
   "outputs": [
    {
     "name": "stdout",
     "output_type": "stream",
     "text": [
      "Validation results:\n",
      "Total labeled instances: 13872\n",
      "Correctly labeled instances: 9291\n",
      "Accuracy: 66.98%\n"
     ]
    }
   ],
   "source": [
    "import pandas as pd\n",
    "\n",
    "# Load the labeled data\n",
    "labeled_data = pd.read_csv('labeled_data.csv')\n",
    "\n",
    "# Initialize counter for correct labels\n",
    "correct_labels = 0\n",
    "\n",
    "# Iterate through each row skipping the first row\n",
    "for index, row in labeled_data.iterrows():\n",
    "    if index == 0:\n",
    "        continue  # Skip the first row\n",
    "    \n",
    "    # Get the actual change in 'ahead_distance'\n",
    "    actual_change = labeled_data.at[index, 'ahead_distance'] - labeled_data.at[index - 1, 'ahead_distance']\n",
    "    \n",
    "    # Check if the label matches the actual change\n",
    "    if (row['label'] == 1 and actual_change > 0) or \\\n",
    "       (row['label'] == -1 and actual_change < 0) or \\\n",
    "       (row['label'] == 0 and actual_change == 0):\n",
    "        correct_labels += 1\n",
    "\n",
    "# Calculate percentage of correct labels\n",
    "total_labels = len(labeled_data) - 1  # Exclude the first row which doesn't have a previous row\n",
    "accuracy = (correct_labels / total_labels) * 100\n",
    "\n",
    "print(\"Validation results:\")\n",
    "print(f\"Total labeled instances: {total_labels}\")\n",
    "print(f\"Correctly labeled instances: {correct_labels}\")\n",
    "print(f\"Accuracy: {accuracy:.2f}%\")\n"
   ]
  },
  {
   "cell_type": "code",
   "execution_count": null,
   "id": "3952e683",
   "metadata": {},
   "outputs": [],
   "source": []
  }
 ],
 "metadata": {
  "kernelspec": {
   "display_name": "Python 3",
   "language": "python",
   "name": "python3"
  },
  "language_info": {
   "codemirror_mode": {
    "name": "ipython",
    "version": 3
   },
   "file_extension": ".py",
   "mimetype": "text/x-python",
   "name": "python",
   "nbconvert_exporter": "python",
   "pygments_lexer": "ipython3",
   "version": "3.7.16"
  }
 },
 "nbformat": 4,
 "nbformat_minor": 5
}
